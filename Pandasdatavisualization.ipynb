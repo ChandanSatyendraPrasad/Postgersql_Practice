{
 "cells": [
  {
   "cell_type": "code",
   "execution_count": 1,
   "id": "035eacf5-1db2-4ee7-8f38-acbb39b06cfc",
   "metadata": {},
   "outputs": [],
   "source": [
    "import pandas as pd"
   ]
  },
  {
   "cell_type": "code",
   "execution_count": 2,
   "id": "d592092c-150c-4443-9c99-b5614e5c5375",
   "metadata": {},
   "outputs": [],
   "source": [
    "dataframe=pd.read_csv('airlines_data_part.CSV')"
   ]
  },
  {
   "cell_type": "code",
   "execution_count": 3,
   "id": "f41cd943-ae68-47ba-95f3-bdb5f0106e8c",
   "metadata": {},
   "outputs": [
    {
     "data": {
      "text/html": [
       "<div>\n",
       "<style scoped>\n",
       "    .dataframe tbody tr th:only-of-type {\n",
       "        vertical-align: middle;\n",
       "    }\n",
       "\n",
       "    .dataframe tbody tr th {\n",
       "        vertical-align: top;\n",
       "    }\n",
       "\n",
       "    .dataframe thead th {\n",
       "        text-align: right;\n",
       "    }\n",
       "</style>\n",
       "<table border=\"1\" class=\"dataframe\">\n",
       "  <thead>\n",
       "    <tr style=\"text-align: right;\">\n",
       "      <th></th>\n",
       "      <th>passenger_name</th>\n",
       "      <th>day</th>\n",
       "      <th>month</th>\n",
       "      <th>departure_city</th>\n",
       "      <th>arrival_city</th>\n",
       "      <th>sales</th>\n",
       "    </tr>\n",
       "  </thead>\n",
       "  <tbody>\n",
       "    <tr>\n",
       "      <th>0</th>\n",
       "      <td>OLGA MELNIKOVA</td>\n",
       "      <td>27</td>\n",
       "      <td>6</td>\n",
       "      <td>Moscow</td>\n",
       "      <td>Bryansk</td>\n",
       "      <td>3400.0</td>\n",
       "    </tr>\n",
       "    <tr>\n",
       "      <th>1</th>\n",
       "      <td>NATALIYA KUZNECOVA</td>\n",
       "      <td>29</td>\n",
       "      <td>6</td>\n",
       "      <td>Moscow</td>\n",
       "      <td>Bryansk</td>\n",
       "      <td>3700.0</td>\n",
       "    </tr>\n",
       "    <tr>\n",
       "      <th>2</th>\n",
       "      <td>OLEG MELNIKOV</td>\n",
       "      <td>27</td>\n",
       "      <td>6</td>\n",
       "      <td>Moscow</td>\n",
       "      <td>Bryansk</td>\n",
       "      <td>3700.0</td>\n",
       "    </tr>\n",
       "    <tr>\n",
       "      <th>3</th>\n",
       "      <td>VALENTIN ABRAMOV</td>\n",
       "      <td>27</td>\n",
       "      <td>6</td>\n",
       "      <td>Moscow</td>\n",
       "      <td>Bryansk</td>\n",
       "      <td>3700.0</td>\n",
       "    </tr>\n",
       "    <tr>\n",
       "      <th>4</th>\n",
       "      <td>ULYANA IVANOVA</td>\n",
       "      <td>30</td>\n",
       "      <td>6</td>\n",
       "      <td>Moscow</td>\n",
       "      <td>St. Petersburg</td>\n",
       "      <td>6000.0</td>\n",
       "    </tr>\n",
       "    <tr>\n",
       "      <th>...</th>\n",
       "      <td>...</td>\n",
       "      <td>...</td>\n",
       "      <td>...</td>\n",
       "      <td>...</td>\n",
       "      <td>...</td>\n",
       "      <td>...</td>\n",
       "    </tr>\n",
       "    <tr>\n",
       "      <th>1016583</th>\n",
       "      <td>ANDREY POPOV</td>\n",
       "      <td>6</td>\n",
       "      <td>8</td>\n",
       "      <td>Moscow</td>\n",
       "      <td>Bryansk</td>\n",
       "      <td>1370400.0</td>\n",
       "    </tr>\n",
       "    <tr>\n",
       "      <th>1016584</th>\n",
       "      <td>IRINA KARPOVA</td>\n",
       "      <td>6</td>\n",
       "      <td>8</td>\n",
       "      <td>Moscow</td>\n",
       "      <td>Bryansk</td>\n",
       "      <td>1370400.0</td>\n",
       "    </tr>\n",
       "    <tr>\n",
       "      <th>1016585</th>\n",
       "      <td>IRINA KARPOVA</td>\n",
       "      <td>6</td>\n",
       "      <td>8</td>\n",
       "      <td>Bryansk</td>\n",
       "      <td>Moscow</td>\n",
       "      <td>1370400.0</td>\n",
       "    </tr>\n",
       "    <tr>\n",
       "      <th>1016586</th>\n",
       "      <td>VLADIMIR KULIKOV</td>\n",
       "      <td>6</td>\n",
       "      <td>8</td>\n",
       "      <td>Bryansk</td>\n",
       "      <td>Moscow</td>\n",
       "      <td>1370400.0</td>\n",
       "    </tr>\n",
       "    <tr>\n",
       "      <th>1016587</th>\n",
       "      <td>VLADIMIR KULIKOV</td>\n",
       "      <td>6</td>\n",
       "      <td>8</td>\n",
       "      <td>Moscow</td>\n",
       "      <td>Bryansk</td>\n",
       "      <td>1370400.0</td>\n",
       "    </tr>\n",
       "  </tbody>\n",
       "</table>\n",
       "<p>1016588 rows × 6 columns</p>\n",
       "</div>"
      ],
      "text/plain": [
       "             passenger_name  day  month departure_city    arrival_city  \\\n",
       "0            OLGA MELNIKOVA   27      6         Moscow         Bryansk   \n",
       "1        NATALIYA KUZNECOVA   29      6         Moscow         Bryansk   \n",
       "2             OLEG MELNIKOV   27      6         Moscow         Bryansk   \n",
       "3          VALENTIN ABRAMOV   27      6         Moscow         Bryansk   \n",
       "4            ULYANA IVANOVA   30      6         Moscow  St. Petersburg   \n",
       "...                     ...  ...    ...            ...             ...   \n",
       "1016583        ANDREY POPOV    6      8         Moscow         Bryansk   \n",
       "1016584       IRINA KARPOVA    6      8         Moscow         Bryansk   \n",
       "1016585       IRINA KARPOVA    6      8        Bryansk          Moscow   \n",
       "1016586    VLADIMIR KULIKOV    6      8        Bryansk          Moscow   \n",
       "1016587    VLADIMIR KULIKOV    6      8         Moscow         Bryansk   \n",
       "\n",
       "             sales  \n",
       "0           3400.0  \n",
       "1           3700.0  \n",
       "2           3700.0  \n",
       "3           3700.0  \n",
       "4           6000.0  \n",
       "...            ...  \n",
       "1016583  1370400.0  \n",
       "1016584  1370400.0  \n",
       "1016585  1370400.0  \n",
       "1016586  1370400.0  \n",
       "1016587  1370400.0  \n",
       "\n",
       "[1016588 rows x 6 columns]"
      ]
     },
     "execution_count": 3,
     "metadata": {},
     "output_type": "execute_result"
    }
   ],
   "source": [
    "dataframe"
   ]
  },
  {
   "cell_type": "code",
   "execution_count": 4,
   "id": "66fa7ac8-63a0-4b9f-8bed-69abfa48be17",
   "metadata": {},
   "outputs": [
    {
     "data": {
      "text/plain": [
       "(1016588, 6)"
      ]
     },
     "execution_count": 4,
     "metadata": {},
     "output_type": "execute_result"
    }
   ],
   "source": [
    "dataframe.shape"
   ]
  },
  {
   "cell_type": "code",
   "execution_count": 5,
   "id": "b0939fda-fdb1-41bb-a32c-31d065179ae3",
   "metadata": {},
   "outputs": [
    {
     "data": {
      "text/plain": [
       "6099528"
      ]
     },
     "execution_count": 5,
     "metadata": {},
     "output_type": "execute_result"
    }
   ],
   "source": [
    "dataframe.size"
   ]
  },
  {
   "cell_type": "code",
   "execution_count": 6,
   "id": "edce9e7e-b4d9-4b03-b5af-a59c6176b6c8",
   "metadata": {},
   "outputs": [
    {
     "data": {
      "text/plain": [
       "106188.27"
      ]
     },
     "execution_count": 6,
     "metadata": {},
     "output_type": "execute_result"
    }
   ],
   "source": [
    "round(dataframe.sales.mean(),2)"
   ]
  },
  {
   "cell_type": "code",
   "execution_count": 7,
   "id": "5a39c83f-e04b-40cb-8df8-f6e795f21104",
   "metadata": {},
   "outputs": [],
   "source": [
    "dataframe1=dataframe.sample(15)"
   ]
  },
  {
   "cell_type": "code",
   "execution_count": 8,
   "id": "67b9a3c7-195b-4935-a28a-a12b4d6d9f2a",
   "metadata": {},
   "outputs": [
    {
     "data": {
      "text/html": [
       "<div>\n",
       "<style scoped>\n",
       "    .dataframe tbody tr th:only-of-type {\n",
       "        vertical-align: middle;\n",
       "    }\n",
       "\n",
       "    .dataframe tbody tr th {\n",
       "        vertical-align: top;\n",
       "    }\n",
       "\n",
       "    .dataframe thead th {\n",
       "        text-align: right;\n",
       "    }\n",
       "</style>\n",
       "<table border=\"1\" class=\"dataframe\">\n",
       "  <thead>\n",
       "    <tr style=\"text-align: right;\">\n",
       "      <th></th>\n",
       "      <th>passenger_name</th>\n",
       "      <th>day</th>\n",
       "      <th>month</th>\n",
       "      <th>departure_city</th>\n",
       "      <th>arrival_city</th>\n",
       "      <th>sales</th>\n",
       "    </tr>\n",
       "  </thead>\n",
       "  <tbody>\n",
       "    <tr>\n",
       "      <th>472165</th>\n",
       "      <td>KONSTANTIN NIKOLAEV</td>\n",
       "      <td>10</td>\n",
       "      <td>7</td>\n",
       "      <td>Ulyanovsk</td>\n",
       "      <td>Moscow</td>\n",
       "      <td>115800.0</td>\n",
       "    </tr>\n",
       "    <tr>\n",
       "      <th>564948</th>\n",
       "      <td>VLADIMIR IVANOV</td>\n",
       "      <td>30</td>\n",
       "      <td>7</td>\n",
       "      <td>Barnaul</td>\n",
       "      <td>Moscow</td>\n",
       "      <td>170500.0</td>\n",
       "    </tr>\n",
       "    <tr>\n",
       "      <th>266199</th>\n",
       "      <td>VLADIMIR ANDREEV</td>\n",
       "      <td>19</td>\n",
       "      <td>7</td>\n",
       "      <td>Perm</td>\n",
       "      <td>Arkhangelsk</td>\n",
       "      <td>56900.0</td>\n",
       "    </tr>\n",
       "    <tr>\n",
       "      <th>911758</th>\n",
       "      <td>GALINA MOISEEVA</td>\n",
       "      <td>9</td>\n",
       "      <td>8</td>\n",
       "      <td>Moscow</td>\n",
       "      <td>Barnaul</td>\n",
       "      <td>117700.0</td>\n",
       "    </tr>\n",
       "    <tr>\n",
       "      <th>844808</th>\n",
       "      <td>VLADISLAV FEDOTOV</td>\n",
       "      <td>9</td>\n",
       "      <td>8</td>\n",
       "      <td>Sochi</td>\n",
       "      <td>Moscow</td>\n",
       "      <td>75800.0</td>\n",
       "    </tr>\n",
       "    <tr>\n",
       "      <th>858296</th>\n",
       "      <td>MIKHAIL KULIKOV</td>\n",
       "      <td>14</td>\n",
       "      <td>8</td>\n",
       "      <td>Nefteyugansk</td>\n",
       "      <td>Moscow</td>\n",
       "      <td>83600.0</td>\n",
       "    </tr>\n",
       "    <tr>\n",
       "      <th>633578</th>\n",
       "      <td>NIKITA GRIGOREV</td>\n",
       "      <td>1</td>\n",
       "      <td>7</td>\n",
       "      <td>Yekaterinburg</td>\n",
       "      <td>Khanty-Mansiysk</td>\n",
       "      <td>280700.0</td>\n",
       "    </tr>\n",
       "    <tr>\n",
       "      <th>1013769</th>\n",
       "      <td>SVETLANA YUDINA</td>\n",
       "      <td>4</td>\n",
       "      <td>8</td>\n",
       "      <td>Moscow</td>\n",
       "      <td>St. Petersburg</td>\n",
       "      <td>532700.0</td>\n",
       "    </tr>\n",
       "    <tr>\n",
       "      <th>454104</th>\n",
       "      <td>RUZALIYA KOROLEVA</td>\n",
       "      <td>6</td>\n",
       "      <td>7</td>\n",
       "      <td>Syktyvkar</td>\n",
       "      <td>Moscow</td>\n",
       "      <td>109500.0</td>\n",
       "    </tr>\n",
       "    <tr>\n",
       "      <th>531878</th>\n",
       "      <td>SVETLANA SMIRNOVA</td>\n",
       "      <td>24</td>\n",
       "      <td>7</td>\n",
       "      <td>Ufa</td>\n",
       "      <td>Elista</td>\n",
       "      <td>141600.0</td>\n",
       "    </tr>\n",
       "    <tr>\n",
       "      <th>169149</th>\n",
       "      <td>ANGELINA TIKHONOVA</td>\n",
       "      <td>2</td>\n",
       "      <td>7</td>\n",
       "      <td>Moscow</td>\n",
       "      <td>St. Petersburg</td>\n",
       "      <td>40100.0</td>\n",
       "    </tr>\n",
       "    <tr>\n",
       "      <th>236344</th>\n",
       "      <td>VIKTOR KUZNECOV</td>\n",
       "      <td>4</td>\n",
       "      <td>7</td>\n",
       "      <td>Moscow</td>\n",
       "      <td>Bryansk</td>\n",
       "      <td>52200.0</td>\n",
       "    </tr>\n",
       "    <tr>\n",
       "      <th>317671</th>\n",
       "      <td>VITALIY NOVIKOV</td>\n",
       "      <td>21</td>\n",
       "      <td>7</td>\n",
       "      <td>Yekaterinburg</td>\n",
       "      <td>Moscow</td>\n",
       "      <td>67600.0</td>\n",
       "    </tr>\n",
       "    <tr>\n",
       "      <th>569484</th>\n",
       "      <td>LILIYA DMITRIEVA</td>\n",
       "      <td>21</td>\n",
       "      <td>7</td>\n",
       "      <td>Moscow</td>\n",
       "      <td>Vladivostok</td>\n",
       "      <td>174400.0</td>\n",
       "    </tr>\n",
       "    <tr>\n",
       "      <th>637318</th>\n",
       "      <td>ALENA NESTEROVA</td>\n",
       "      <td>25</td>\n",
       "      <td>7</td>\n",
       "      <td>Norilsk</td>\n",
       "      <td>Yekaterinburg</td>\n",
       "      <td>289400.0</td>\n",
       "    </tr>\n",
       "  </tbody>\n",
       "</table>\n",
       "</div>"
      ],
      "text/plain": [
       "              passenger_name  day  month departure_city     arrival_city  \\\n",
       "472165   KONSTANTIN NIKOLAEV   10      7      Ulyanovsk           Moscow   \n",
       "564948       VLADIMIR IVANOV   30      7        Barnaul           Moscow   \n",
       "266199      VLADIMIR ANDREEV   19      7           Perm      Arkhangelsk   \n",
       "911758       GALINA MOISEEVA    9      8         Moscow          Barnaul   \n",
       "844808     VLADISLAV FEDOTOV    9      8          Sochi           Moscow   \n",
       "858296       MIKHAIL KULIKOV   14      8   Nefteyugansk           Moscow   \n",
       "633578       NIKITA GRIGOREV    1      7  Yekaterinburg  Khanty-Mansiysk   \n",
       "1013769      SVETLANA YUDINA    4      8         Moscow   St. Petersburg   \n",
       "454104     RUZALIYA KOROLEVA    6      7      Syktyvkar           Moscow   \n",
       "531878     SVETLANA SMIRNOVA   24      7            Ufa           Elista   \n",
       "169149    ANGELINA TIKHONOVA    2      7         Moscow   St. Petersburg   \n",
       "236344       VIKTOR KUZNECOV    4      7         Moscow          Bryansk   \n",
       "317671       VITALIY NOVIKOV   21      7  Yekaterinburg           Moscow   \n",
       "569484      LILIYA DMITRIEVA   21      7         Moscow      Vladivostok   \n",
       "637318       ALENA NESTEROVA   25      7        Norilsk    Yekaterinburg   \n",
       "\n",
       "            sales  \n",
       "472165   115800.0  \n",
       "564948   170500.0  \n",
       "266199    56900.0  \n",
       "911758   117700.0  \n",
       "844808    75800.0  \n",
       "858296    83600.0  \n",
       "633578   280700.0  \n",
       "1013769  532700.0  \n",
       "454104   109500.0  \n",
       "531878   141600.0  \n",
       "169149    40100.0  \n",
       "236344    52200.0  \n",
       "317671    67600.0  \n",
       "569484   174400.0  \n",
       "637318   289400.0  "
      ]
     },
     "execution_count": 8,
     "metadata": {},
     "output_type": "execute_result"
    }
   ],
   "source": [
    "dataframe1"
   ]
  },
  {
   "cell_type": "code",
   "execution_count": 9,
   "id": "c74807c6-49d6-4fd3-8737-275884e99e95",
   "metadata": {},
   "outputs": [
    {
     "data": {
      "image/png": "[encoded data removed]",
      "text/plain": [
       "<Figure size 432x288 with 1 Axes>"
      ]
     },
     "metadata": {
      "needs_background": "light"
     },
     "output_type": "display_data"
    }
   ],
   "source": [
    "import matplotlib.pyplot as plt\n",
    "sales=dataframe1['sales']\n",
    "months=dataframe1['month']\n",
    "plt.bar(months,sales)\n",
    "plt.ylabel('Sales')\n",
    "plt.xlabel('Months')\n",
    "plt.show()"
   ]
  },
  {
   "cell_type": "code",
   "execution_count": 10,
   "id": "93d8d941-6675-4a67-bb18-3f503a9338ac",
   "metadata": {},
   "outputs": [],
   "source": [
    "dataframe2=dataframe.sample(30)"
   ]
  },
  {
   "cell_type": "code",
   "execution_count": 11,
   "id": "bed525ea-e360-4058-8336-b8919ef85960",
   "metadata": {},
   "outputs": [
    {
     "data": {
      "image/png": "[encoded data removed]",
      "text/plain": [
       "<Figure size 432x288 with 1 Axes>"
      ]
     },
     "metadata": {
      "needs_background": "light"
     },
     "output_type": "display_data"
    }
   ],
   "source": [
    "import matplotlib.pyplot as plt\n",
    "sales=dataframe2['sales']\n",
    "months=dataframe2['month']\n",
    "plt.bar(months,sales)\n",
    "plt.xticks(months,rotation='horizontal',size=10)\n",
    "plt.ylabel('Sales')\n",
    "plt.xlabel('Months')\n",
    "plt.show()"
   ]
  },
  {
   "cell_type": "code",
   "execution_count": 12,
   "id": "0d8873d3-114b-4193-bd44-620d8322830d",
   "metadata": {},
   "outputs": [],
   "source": [
    "dataframe3=dataframe.sample(500)"
   ]
  },
  {
   "cell_type": "code",
   "execution_count": 13,
   "id": "c092d83a-114c-4f02-8b31-99d550fd4f41",
   "metadata": {},
   "outputs": [
    {
     "data": {
      "image/png": "[encoded data removed]",
      "text/plain": [
       "<Figure size 432x288 with 1 Axes>"
      ]
     },
     "metadata": {
      "needs_background": "light"
     },
     "output_type": "display_data"
    }
   ],
   "source": [
    "import matplotlib.pyplot as plt\n",
    "sales=dataframe3['sales']\n",
    "months=dataframe3['month']\n",
    "plt.bar(months,sales)\n",
    "plt.xticks(months,rotation='horizontal',size=10)\n",
    "plt.ylabel('Sales')\n",
    "plt.xlabel('Months')\n",
    "plt.show()"
   ]
  },
  {
   "cell_type": "code",
   "execution_count": 14,
   "id": "022a16ee-fea7-4484-b2b7-da7594632b45",
   "metadata": {},
   "outputs": [],
   "source": [
    "dataframe4=dataframe.sample(1000)"
   ]
  },
  {
   "cell_type": "code",
   "execution_count": 15,
   "id": "d6125c48-5247-43dd-b567-ecd99dfa1b26",
   "metadata": {},
   "outputs": [
    {
     "data": {
      "image/png": "[encoded data removed]",
      "text/plain": [
       "<Figure size 432x288 with 1 Axes>"
      ]
     },
     "metadata": {
      "needs_background": "light"
     },
     "output_type": "display_data"
    }
   ],
   "source": [
    "import matplotlib.pyplot as plt\n",
    "sales=dataframe4['sales']\n",
    "months=dataframe4['month']\n",
    "plt.bar(months,sales)\n",
    "plt.xticks(months,rotation='horizontal',size=10)\n",
    "plt.ylabel('Sales')\n",
    "plt.xlabel('Months')\n",
    "plt.show()"
   ]
  },
  {
   "cell_type": "code",
   "execution_count": 19,
   "id": "cc94ac85-2ed9-4e8d-87a0-9a81ad943e9b",
   "metadata": {},
   "outputs": [],
   "source": [
    "dataframe5=dataframe.sample(2000)"
   ]
  },
  {
   "cell_type": "code",
   "execution_count": 20,
   "id": "437c9ca5-e9c7-4bd1-8572-714870a1053c",
   "metadata": {},
   "outputs": [
    {
     "data": {
      "image/png": "[encoded data removed]",
      "text/plain": [
       "<Figure size 432x288 with 1 Axes>"
      ]
     },
     "metadata": {
      "needs_background": "light"
     },
     "output_type": "display_data"
    }
   ],
   "source": [
    "import matplotlib.pyplot as plt\n",
    "sales=dataframe5['sales']\n",
    "months=dataframe5['month']\n",
    "plt.bar(months,sales)\n",
    "plt.xticks(months,rotation='horizontal',size=10)\n",
    "plt.ylabel('Sales')\n",
    "plt.xlabel('Months')\n",
    "plt.show()"
   ]
  },
  {
   "cell_type": "code",
   "execution_count": 22,
   "id": "fffb4dae-0ec8-4fdf-be40-fbc7b63b39d9",
   "metadata": {},
   "outputs": [],
   "source": [
    "dataframe6=dataframe.sample(3000)"
   ]
  },
  {
   "cell_type": "code",
   "execution_count": null,
   "id": "1815fad3-e21c-4d6e-81f2-737bb24450e9",
   "metadata": {},
   "outputs": [],
   "source": []
  }
 ],
 "metadata": {
  "kernelspec": {
   "display_name": "Python 3 (ipykernel)",
   "language": "python",
   "name": "python3"
  },
  "language_info": {
   "codemirror_mode": {
    "name": "ipython",
    "version": 3
   },
   "file_extension": ".py",
   "mimetype": "text/x-python",
   "name": "python",
   "nbconvert_exporter": "python",
   "pygments_lexer": "ipython3",
   "version": "3.10.2"
  }
 },
 "nbformat": 4,
 "nbformat_minor": 5
}
